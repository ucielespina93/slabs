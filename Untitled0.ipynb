{
  "nbformat": 4,
  "nbformat_minor": 0,
  "metadata": {
    "colab": {
      "name": "Untitled0.ipynb",
      "provenance": [],
      "authorship_tag": "ABX9TyO8R5ZnjldVEfMbqBxs7bkp",
      "include_colab_link": true
    },
    "kernelspec": {
      "name": "python3",
      "display_name": "Python 3"
    }
  },
  "cells": [
    {
      "cell_type": "markdown",
      "metadata": {
        "id": "view-in-github",
        "colab_type": "text"
      },
      "source": [
        "<a href=\"https://colab.research.google.com/github/ucielespina93/slabs/blob/master/Untitled0.ipynb\" target=\"_parent\"><img src=\"https://colab.research.google.com/assets/colab-badge.svg\" alt=\"Open In Colab\"/></a>"
      ]
    },
    {
      "cell_type": "code",
      "metadata": {
        "id": "-FbOV1E89mLn"
      },
      "source": [
        ""
      ],
      "execution_count": null,
      "outputs": []
    },
    {
      "cell_type": "code",
      "metadata": {
        "id": "1MtqTnaVptrZ"
      },
      "source": [
        "# Inputs\n",
        "\"\"\"\n",
        "H, ft\n",
        "\"\"\"\n",
        "\n",
        "\n",
        "latitude = 37.775437\n",
        "longitude = -122.435363\n",
        "riskCategory = 'II'\n",
        "siteClass = 'D'\n",
        "H = 100\n",
        "R = 8\n",
        "Ie = 1"
      ],
      "execution_count": null,
      "outputs": []
    },
    {
      "cell_type": "code",
      "metadata": {
        "id": "x3sAWl6P9nJF",
        "outputId": "8455701c-d40d-4d67-cd9d-995747116ab1",
        "colab": {
          "base_uri": "https://localhost:8080/",
          "height": 129
        }
      },
      "source": [
        ""
      ],
      "execution_count": null,
      "outputs": [
        {
          "output_type": "error",
          "ename": "SyntaxError",
          "evalue": "ignored",
          "traceback": [
            "\u001b[0;36m  File \u001b[0;32m\"<ipython-input-1-4defac6d8750>\"\u001b[0;36m, line \u001b[0;32m1\u001b[0m\n\u001b[0;31m    https://www.google.com/maps/@-34.069030,118.306124.8z\u001b[0m\n\u001b[0m           ^\u001b[0m\n\u001b[0;31mSyntaxError\u001b[0m\u001b[0;31m:\u001b[0m invalid syntax\n"
          ]
        }
      ]
    },
    {
      "cell_type": "code",
      "metadata": {
        "id": "jUlIsBDLqTli",
        "outputId": "9d8817e1-9aa1-4ba6-9973-dafa64f970db",
        "colab": {
          "base_uri": "https://localhost:8080/",
          "height": 86
        }
      },
      "source": [
        "url = ('https://earthquake.usgs.gov/ws/designmaps/asce7-16'\n",
        "               + '.json?latitude=' + str(latitude)\n",
        "               + '&longitude=' + str(longitude) + '&riskCategory='\n",
        "               + riskCategory + '&siteClass=' + siteClass +\n",
        "               '&title=Example')\n",
        "print(url)\n",
        "\n",
        "\"\"\"\n",
        "result = requests.get(url).json()\n",
        "\n",
        "if 'response' in result:\n",
        "    if 'data' in result['response']:\n",
        "        seismicData = result['response']['data']\n",
        "if 'sds' in seismicData:\n",
        "    Sds = seismicData['sds']\n",
        "if 's1' in seismicData:\n",
        "    S1 = seismicData['s1']\n",
        "if 't-sub-l' in seismicData:\n",
        "    TL = seismicData['t-sub-l']\n",
        "if 'fv' in seismicData:\n",
        "    FV = seismicData['fv']\n",
        "if 'fa' in seismicData:\n",
        "    Fa = seismicData['fa']\n",
        "\n",
        "if S1 >= 0.2:\n",
        "    if S1 <= 0.3:\n",
        "        FV = 2.6 - 2 * S1\n",
        "    else:\n",
        "        FV = 2.3 - S1\n",
        "Sd1 = 2 * FV * S1 / 3\n",
        "\"\"\""
      ],
      "execution_count": null,
      "outputs": [
        {
          "output_type": "stream",
          "text": [
            "https://earthquake.usgs.gov/ws/designmaps/asce7-16.json?latitude=37.775437&longitude=-122.435363&riskCategory=II&siteClass=D&title=Example\n"
          ],
          "name": "stdout"
        },
        {
          "output_type": "execute_result",
          "data": {
            "application/vnd.google.colaboratory.intrinsic+json": {
              "type": "string"
            },
            "text/plain": [
              "\"\\nresult = requests.get(url).json()\\n\\nif 'response' in result:\\n    if 'data' in result['response']:\\n        seismicData = result['response']['data']\\nif 'sds' in seismicData:\\n    Sds = seismicData['sds']\\nif 's1' in seismicData:\\n    S1 = seismicData['s1']\\nif 't-sub-l' in seismicData:\\n    TL = seismicData['t-sub-l']\\nif 'fv' in seismicData:\\n    FV = seismicData['fv']\\nif 'fa' in seismicData:\\n    Fa = seismicData['fa']\\n\\nif S1 >= 0.2:\\n    if S1 <= 0.3:\\n        FV = 2.6 - 2 * S1\\n    else:\\n        FV = 2.3 - S1\\n        Sd1 = 2 * FV * S1 / 3\\n\""
            ]
          },
          "metadata": {
            "tags": []
          },
          "execution_count": 5
        }
      ]
    },
    {
      "cell_type": "code",
      "metadata": {
        "id": "BNtmhQPoewnO",
        "outputId": "ffdda780-1365-4606-e9f1-85d0d78f2f67",
        "colab": {
          "base_uri": "https://localhost:8080/",
          "height": 231
        }
      },
      "source": [
        "Tn = 0.028 * H **0.8\n",
        "SDS = Sds\n",
        "SD1 = Sd1\n",
        "S1 = S1\n",
        "Tl = TL\n",
        "\n",
        "Cs1 = SDS / (R / Ie)\n",
        "Cs2 = SD1 / (Tn * (R / Ie))\n",
        "Cs3 = SD1 * Tl / (Tn ** 2 * (R / Ie))\n",
        "Cs9 = 0.044 * SDS * Ie\n",
        "Cs4 = Cs9 if Cs9 >= 0.01 else 0.01\n",
        "Cs5 = 0.5 * S1 / (R / Ie) if S1 >= 0.6 else Cs4\n",
        "\n",
        "Cs6 = Cs2 if Tn <= Tl else Cs3\n",
        "Cs7 = Cs1 if Cs1 <= Cs6 else Cs6\n",
        "\n",
        "seismicCoefficient = Cs7 if Cs7 >= Cs5 else Cs5\n",
        "print(seismicCoefficient)"
      ],
      "execution_count": null,
      "outputs": [
        {
          "output_type": "error",
          "ename": "NameError",
          "evalue": "ignored",
          "traceback": [
            "\u001b[0;31m---------------------------------------------------------------------------\u001b[0m",
            "\u001b[0;31mNameError\u001b[0m                                 Traceback (most recent call last)",
            "\u001b[0;32m<ipython-input-6-2f16d2e0e800>\u001b[0m in \u001b[0;36m<module>\u001b[0;34m()\u001b[0m\n\u001b[1;32m      1\u001b[0m \u001b[0mTn\u001b[0m \u001b[0;34m=\u001b[0m \u001b[0;36m0.028\u001b[0m \u001b[0;34m*\u001b[0m \u001b[0mH\u001b[0m \u001b[0;34m**\u001b[0m\u001b[0;36m0.8\u001b[0m\u001b[0;34m\u001b[0m\u001b[0;34m\u001b[0m\u001b[0m\n\u001b[0;32m----> 2\u001b[0;31m \u001b[0mSDS\u001b[0m \u001b[0;34m=\u001b[0m \u001b[0mSds\u001b[0m\u001b[0;34m\u001b[0m\u001b[0;34m\u001b[0m\u001b[0m\n\u001b[0m\u001b[1;32m      3\u001b[0m \u001b[0mSD1\u001b[0m \u001b[0;34m=\u001b[0m \u001b[0mSd1\u001b[0m\u001b[0;34m\u001b[0m\u001b[0;34m\u001b[0m\u001b[0m\n\u001b[1;32m      4\u001b[0m \u001b[0mS1\u001b[0m \u001b[0;34m=\u001b[0m \u001b[0mS1\u001b[0m\u001b[0;34m\u001b[0m\u001b[0;34m\u001b[0m\u001b[0m\n\u001b[1;32m      5\u001b[0m \u001b[0mTl\u001b[0m \u001b[0;34m=\u001b[0m \u001b[0mTL\u001b[0m\u001b[0;34m\u001b[0m\u001b[0;34m\u001b[0m\u001b[0m\n",
            "\u001b[0;31mNameError\u001b[0m: name 'Sds' is not defined"
          ]
        }
      ]
    },
    {
      "cell_type": "code",
      "metadata": {
        "id": "JSNUo4ikeeYT"
      },
      "source": [
        "class LoadGeneratorASCE7_16(LoadGenerator):\n",
        "    def _setSeismicCoefficient(self):\n",
        "        \"\"\"Calculate the seismic coefficient\n",
        "\n",
        "        This function calculates the Seismic Response coefficient\n",
        "        from: Eq. 12.8.2 to Equation 12.8.6\n",
        "        \"\"\"\n",
        "        Tn = self._Tn\n",
        "        R = self._responseFactor\n",
        "        Ie = self._importanceFactor\n",
        "        SDS = self._sp.Sds\n",
        "        SD1 = self._sp.Sd1\n",
        "        S1 = self._sp.S1\n",
        "        Tl = self._sp.TL\n",
        "\n",
        "        Cs1 = SDS / (R / Ie)\n",
        "        Cs2 = SD1 / (Tn * (R / Ie))\n",
        "        Cs3 = SD1 * Tl / (Tn ** 2 * (R / Ie))\n",
        "        Cs9 = 0.044 * SDS * Ie\n",
        "        Cs4 = Cs9 if Cs9 >= 0.01 else 0.01\n",
        "        Cs5 = 0.5 * S1 / (R / Ie) if S1 >= 0.6 else Cs4\n",
        "\n",
        "        Cs6 = Cs2 if Tn <= Tl else Cs3\n",
        "        Cs7 = Cs1 if Cs1 <= Cs6 else Cs6\n",
        "        self._seismicCoefficient = Cs7 if Cs7 >= Cs5 else Cs5"
      ],
      "execution_count": null,
      "outputs": []
    },
    {
      "cell_type": "code",
      "metadata": {
        "id": "UNM5yXAGcH3P"
      },
      "source": [
        "class SeismicParameters:\n",
        "    \"\"\"Compute the seismic parameters based on Chapter11, ASCE 7-16 standard.\n",
        "       Seismic parameters are retrieved from USGS website:\n",
        "       https://earthquake.usgs.gov/ws/designmaps/asce7-16\n",
        "    \"\"\"\n",
        "\n",
        "    def __init__(self, latitude, longitude, riskCategory='II',\n",
        "                 siteClass='D'):\n",
        "        \"\"\"Initialize the calculation of seismic parameters.\n",
        "\n",
        "         Arguments:\n",
        "             latitude -- North-south geographical coordinate of the building.\n",
        "             longitude -- East-West geographical coordinate of the building.\n",
        "             riskCategory -- Risk category based on Table 1.5-1. ASCE 7-16\n",
        "                             Default: II.\n",
        "             siteClass -- Site Class based on sect.11.4.3 ASCE7-16. Default: D.\n",
        "         \"\"\"\n",
        "        self._latitude = latitude\n",
        "        self._longitude = longitude\n",
        "        self._riskCategory = riskCategory\n",
        "        self._siteClass = siteClass\n",
        "        self._result = {}\n",
        "        # Default Location: 4209 W 3rd St, Los Angeles, CA 90020, USA\n",
        "        # latitude = 34.069030, longitude = -118.306124\n",
        "        self._Sds = 1.341\n",
        "        self._Sd1 = 0.757\n",
        "        self._S1 = 0.717\n",
        "        self._TL = 8\n",
        "        self._FV = None\n",
        "        self._Fa = 1\n",
        "\n",
        "    @property\n",
        "    def Sds(self):\n",
        "        \"\"\"Returns the seismic parameter SDS.\n",
        "        Returns:\n",
        "            float.\n",
        "        \"\"\"\n",
        "        return self._Sds\n",
        "\n",
        "    @property\n",
        "    def Sd1(self):\n",
        "        \"\"\"Returns the seismic parameter SD1.\n",
        "        Returns:\n",
        "            float.\n",
        "        \"\"\"\n",
        "        return self._Sd1\n",
        "\n",
        "    @property\n",
        "    def S1(self):\n",
        "        \"\"\"Returns the seismic parameter S1.\n",
        "        Returns:\n",
        "            float.\n",
        "        \"\"\"\n",
        "        return self._S1\n",
        "\n",
        "    @property\n",
        "    def TL(self):\n",
        "        \"\"\"Returns the seismic parameter TL.\n",
        "        Returns:\n",
        "            float.\n",
        "        \"\"\"\n",
        "        return self._TL\n",
        "\n",
        "    @property\n",
        "    def Fa(self):\n",
        "        \"\"\"Returns the seismic parameter Fa.\n",
        "        Returns:\n",
        "            float.\n",
        "        \"\"\"\n",
        "        return self._Fa\n",
        "\n",
        "    def getSeismicParameters(self):\n",
        "        \"\"\"Get seismic parameters from USGS website\n",
        "        \"\"\"\n",
        "        self._retrieveSeismicData()\n",
        "        self._extractValues()\n",
        "        self._processExtractedValues()\n",
        "\n",
        "    def _retrieveSeismicData(self):\n",
        "        \"\"\"Retrieve seismic data from Server\n",
        "        \"\"\"\n",
        "        url = ('https://earthquake.usgs.gov/ws/designmaps/asce7-16'\n",
        "               + '.json?latitude=' + str(self._latitude)\n",
        "               + '&longitude=' + str(self._longitude) + '&riskCategory='\n",
        "               + self._riskCategory + '&siteClass=' + self._siteClass +\n",
        "               '&title=Example')\n",
        "        self._result = requests.get(url).json()\n",
        "        if 'request' in self._result:\n",
        "            if 'status' in self._result['request']:\n",
        "                if self._result['request']['status'] == 'error':\n",
        "                    self._log.error(\"Error retrieving Seismic data.\")\n",
        "                    self._log.error(\n",
        "                        \"Location not found, using default seismic parameters:\"\n",
        "                        \" [sds]=[ % s], [s1]=[%s], [tl]=[%s], [sd1]=[%s]\",\n",
        "                        self._Sds, self._S1, self._TL, self._Sd1)\n",
        "                    FeedbackLoggerPool.getLogger().addError(\n",
        "                        FM.LOAD_GENERATOR_DEFAULT_COEF)\n",
        "\n",
        "    def _extractValues(self):\n",
        "        \"\"\"Extract Seismic paratemers from data retrieved from server.\n",
        "        \"\"\"\n",
        "        seismicData = {}\n",
        "        if 'response' in self._result:\n",
        "            if 'data' in self._result['response']:\n",
        "                seismicData = self._result['response']['data']\n",
        "        if 'sds' in seismicData:\n",
        "            self._Sds = seismicData['sds']\n",
        "        if 's1' in seismicData:\n",
        "            self._S1 = seismicData['s1']\n",
        "        if 't-sub-l' in seismicData:\n",
        "            self._TL = seismicData['t-sub-l']\n",
        "        if 'fv' in seismicData:\n",
        "            self._FV = seismicData['fv']\n",
        "        if 'fa' in seismicData:\n",
        "            self._Fa = seismicData['fa']\n",
        "\n",
        "    def _processExtractedValues(self):\n",
        "        \"\"\"Process extracted seismic parameters.\n",
        "        \"\"\"\n",
        "        if self._S1 >= 0.2:\n",
        "            if self._S1 <= 0.3:\n",
        "                self._FV = 2.6 - 2 * self._S1\n",
        "            else:\n",
        "                self._FV = 2.3 - self._S1\n",
        "        self._Sd1 = 2 * self._FV * self._S1 / 3\n"
      ],
      "execution_count": null,
      "outputs": []
    },
    {
      "cell_type": "code",
      "metadata": {
        "id": "lqQTcitujfAk"
      },
      "source": [
        "myStructure=SeismicParameters(self, 34.069030, -118.306124, riskCategory='II',\n",
        "                 siteClass='D')\n"
      ],
      "execution_count": null,
      "outputs": []
    },
    {
      "cell_type": "code",
      "metadata": {
        "id": "YH6-FAwmxsHe",
        "outputId": "1a5e7f76-0c0c-481b-a105-fbcc568d12af",
        "colab": {
          "base_uri": "https://localhost:8080/",
          "height": 34
        }
      },
      "source": [
        "Tn = 0.6402270727\n",
        "R = 8\n",
        "Ie = 1\n",
        "SDS = 1\n",
        "SD1 = 0.68\n",
        "S1 = 0.6\n",
        "Tl = 12\n",
        "\n",
        "Cs1 = SDS / (R / Ie)\n",
        "Cs2 = SD1 / (Tn * (R / Ie))\n",
        "Cs3 = SD1 * Tl / (Tn ** 2 * (R / Ie))\n",
        "Cs9 = 0.044 * SDS * Ie\n",
        "Cs4 = Cs9 if Cs9 >= 0.01 else 0.01\n",
        "Cs5 = 0.5 * S1 / (R / Ie) if S1 >= 0.6 else Cs4\n",
        "\n",
        "Cs6 = Cs2 if Tn <= Tl else Cs3\n",
        "Cs7 = Cs1 if Cs1 <= Cs6 else Cs6\n",
        "\n",
        "seismicCoefficient = Cs7 if Cs7 >= Cs5 else Cs5\n",
        "print(seismicCoefficient)"
      ],
      "execution_count": null,
      "outputs": [
        {
          "output_type": "stream",
          "text": [
            "0.125\n"
          ],
          "name": "stdout"
        }
      ]
    },
    {
      "cell_type": "code",
      "metadata": {
        "id": "Hu7RY4GYyqOm",
        "outputId": "b5c57910-2c91-414e-84e1-d0c401012817",
        "colab": {
          "base_uri": "https://localhost:8080/",
          "height": 34
        }
      },
      "source": [
        "Tn = 0.1744\n",
        "R = 8\n",
        "Ie = 1\n",
        "SDS = 1.341\n",
        "SD1 = 0.75667\n",
        "S1 = 0.717\n",
        "Tl = 8\n",
        "\n",
        "Cs1 = SDS / (R / Ie)\n",
        "Cs2 = SD1 / (Tn * (R / Ie))\n",
        "Cs3 = SD1 * Tl / (Tn ** 2 * (R / Ie))\n",
        "Cs9 = 0.044 * SDS * Ie\n",
        "Cs4 = Cs9 if Cs9 >= 0.01 else 0.01\n",
        "Cs5 = 0.5 * S1 / (R / Ie) if S1 >= 0.6 else Cs4\n",
        "\n",
        "Cs6 = Cs2 if Tn <= Tl else Cs3\n",
        "Cs7 = Cs1 if Cs1 <= Cs6 else Cs6\n",
        "\n",
        "seismicCoefficient = Cs7 if Cs7 >= Cs5 else Cs5\n",
        "print(seismicCoefficient)"
      ],
      "execution_count": null,
      "outputs": [
        {
          "output_type": "stream",
          "text": [
            "0.167625\n"
          ],
          "name": "stdout"
        }
      ]
    }
  ]
}